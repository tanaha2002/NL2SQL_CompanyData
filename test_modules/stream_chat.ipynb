{
 "cells": [
  {
   "cell_type": "code",
   "execution_count": 3,
   "metadata": {},
   "outputs": [],
   "source": [
    "import time\n",
    "import openai\n",
    "from dotenv import load_dotenv\n",
    "import os\n",
    "from typing import Any, Dict\n",
    "import openai\n",
    "\n",
    "# load .env file\n",
    "load_dotenv()\n",
    "openai.api_key = os.environ.get(\"OPENAI_API_KEY\")"
   ]
  },
  {
   "cell_type": "code",
   "execution_count": 6,
   "metadata": {},
   "outputs": [
    {
     "name": "stdout",
     "output_type": "stream",
     "text": [
      "Tất nhiên! Tôi có thể giúp bạn thực thi các câu lệnh SQL. Hãy cho tôi biết câu lệnh SQL cụ thể mà bạn muốn thực thi, và tôi sẽ cố gắng hỗ trợ bạn."
     ]
    }
   ],
   "source": [
    "prompt = input()\n",
    "start = time.time()\n",
    "delay_time = 0.01 #  faster\n",
    "answer = \"\"\n",
    "response = openai.ChatCompletion.create(\n",
    "    model=\"gpt-3.5-turbo\",\n",
    "    messages=[\n",
    "        {\n",
    "            \"role\": \"user\",\n",
    "            \"content\": f'{prompt}',\n",
    "        }\n",
    "    ],\n",
    "    max_tokens=100,\n",
    "    temperature=0.0,\n",
    "    stream = True\n",
    ")\n",
    "\n",
    "for chunk in response:\n",
    "    print(answer,end=\"\",flush=True)\n",
    "    #retrive the text from the response\n",
    "    event_time = time.time() - start  # CALCULATE TIME DELAY BY THE EVENT\n",
    "    event_text = chunk['choices'][0]['delta'] # EVENT DELTA RESPONSE\n",
    "    answer = event_text.get('content', '') # RETRIEVE CONTENT\n",
    "    time.sleep(delay_time)\n",
    "\n"
   ]
  }
 ],
 "metadata": {
  "kernelspec": {
   "display_name": "venv",
   "language": "python",
   "name": "python3"
  },
  "language_info": {
   "codemirror_mode": {
    "name": "ipython",
    "version": 3
   },
   "file_extension": ".py",
   "mimetype": "text/x-python",
   "name": "python",
   "nbconvert_exporter": "python",
   "pygments_lexer": "ipython3",
   "version": "3.9.4"
  }
 },
 "nbformat": 4,
 "nbformat_minor": 2
}
